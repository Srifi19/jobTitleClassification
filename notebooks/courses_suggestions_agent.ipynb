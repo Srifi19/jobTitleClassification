{
 "cells": [
  {
   "cell_type": "code",
   "execution_count": 15,
   "metadata": {},
   "outputs": [],
   "source": []
  },
  {
   "cell_type": "code",
   "execution_count": 1,
   "metadata": {},
   "outputs": [],
   "source": [
    "def _format_class_central_url(topic:str):\n",
    "    # if topic contains spaces, replace them with +\n",
    "    topic = topic.strip()\n",
    "    topic = topic.replace(' ', '+')\n",
    "    return f\"https://www.classcentral.com/search?q={topic}&free=true\"        "
   ]
  },
  {
   "cell_type": "code",
   "execution_count": 2,
   "metadata": {},
   "outputs": [],
   "source": [
    "def _parse_class_central_url(web_page:str):\n",
    "    from bs4 import BeautifulSoup\n",
    "    soup = BeautifulSoup(web_page, 'html.parser')\n",
    "    \n",
    "    # find all course containers\n",
    "    course_containers = soup.find_all(\"li\", class_=COURSE_CONTAINER)\n",
    "    \n",
    "     # results\n",
    "    results = []\n",
    "    for item in course_containers:\n",
    "        try:\n",
    "            title = item.find(\"h2\").text.strip()\n",
    "            description = item.find(\"p\").text.strip()\n",
    "            href = item.find(\"p\").find(\"a\")[\"href\"]\n",
    "            \n",
    "            results.append({\n",
    "                \"title\": title,\n",
    "                \"description\": description,\n",
    "                \"href\": f\"https://www.classcentral.com{href}\"\n",
    "            })\n",
    "        except:\n",
    "            continue\n",
    "        \n",
    "    return results"
   ]
  },
  {
   "cell_type": "code",
   "execution_count": 3,
   "metadata": {},
   "outputs": [],
   "source": [
    "USER_AGENTS = [\n",
    "     \"Mozilla/5.0 (Windows NT 10.0; Win64; x64) AppleWebKit/537.36 (KHTML, like Gecko) Chrome/58.0.3029.110 Safari/537.36\",\n",
    "    \"Mozilla/5.0 (Windows NT 10.0; Win64; x64) AppleWebKit/537.36 (KHTML, like Gecko) Firefox/60.0\",\n",
    "    \"Mozilla/5.0 (Windows NT 10.0; Win64; x64) AppleWebKit/537.36 (KHTML, like Gecko) Edge/16.16299\",\n",
    "    \"Mozilla/5.0 (Windows NT 10.0; Win64; x64; rv:70.0) Gecko/20100101 Firefox/70.0\",\n",
    "    \"Mozilla/5.0 (Macintosh; Intel Mac OS X 10_14_6) AppleWebKit/605.1.15 (KHTML, like Gecko) Version/13.0.4 Safari/605.1.15\",\n",
    "    \"Mozilla/5.0 (Macintosh; Intel Mac OS X 10_15_7) AppleWebKit/537.36 (KHTML, like Gecko) Chrome/87.0.4280.88 Safari/537.36\",\n",
    "    \"Mozilla/5.0 (Windows NT 10.0; Win64; x64) AppleWebKit/537.36 (KHTML, like Gecko) Chrome/96.0.4664.45 Safari/537.36 Edg/96.0.1054.34\",\n",
    "    \"Mozilla/5.0 (Linux; Android 10; Pixel 3) AppleWebKit/537.36 (KHTML, like Gecko) Chrome/85.0.4183.127 Mobile Safari/537.36\",\n",
    "    \"Mozilla/5.0 (iPhone; CPU iPhone OS 14_4 like Mac OS X) AppleWebKit/605.1.15 (KHTML, like Gecko) Version/14.0.3 Mobile/15E148 Safari/604.1\",\n",
    "    \"Mozilla/5.0 (Linux; Android 10; Pixel 3 XL) AppleWebKit/537.36 (KHTML, like Gecko) Chrome/86.0.4240.198 Mobile Safari/537.36\",\n",
    "    \"Mozilla/5.0 (Macintosh; Intel Mac OS X 10_15_7) AppleWebKit/605.1.15 (KHTML, like Gecko) Version/15.1 Safari/605.1.15\",\n",
    "    \"Mozilla/5.0 (X11; Linux x86_64) AppleWebKit/537.36 (KHTML, like Gecko) Chrome/85.0.4183.83 Safari/537.36\",\n",
    "    \"Mozilla/5.0 (Windows NT 10.0; Win64; x64) AppleWebKit/537.36 (KHTML, like Gecko) Chrome/71.0.3578.98 Safari/537.36 Edge/18.19582\",\n",
    "    \"Mozilla/5.0 (Windows NT 6.1; WOW64; Trident/7.0; AS; rv:11.0) like Gecko\",\n",
    "    \"Mozilla/5.0 (Windows NT 10.0; Win64; x64) AppleWebKit/537.36 (KHTML, like Gecko) Chrome/101.0.0.0 Safari/537.36\",\n",
    "]\n",
    "\n",
    "\n",
    "def custom_secure_options():\n",
    "    from selenium.webdriver.chrome.options import Options\n",
    "    from random import choice\n",
    "    options = Options()\n",
    "\n",
    "    options.ignore_zoom_level = True\n",
    "    options.add_experimental_option(\"excludeSwitches\", [\"enable-logging\"])\n",
    "\n",
    "    # Adding argument to disable the AutomationControlled flag\n",
    "    options.add_argument(\"--disable-blink-features=AutomationControlled\")\n",
    "\n",
    "    # Exclude the collection of enable-automation switches\n",
    "    options.add_experimental_option(\"excludeSwitches\", [\"enable-automation\"])\n",
    "\n",
    "    # Turn-off userAutomationExtension\n",
    "    options.add_experimental_option(\"useAutomationExtension\", False)\n",
    "\n",
    "    preferences = {\n",
    "        \"profile.default_content_settings.geolocation\": 2,\n",
    "        \"profile.managed_default_content_settings.images\": 2,\n",
    "    }\n",
    "\n",
    "    options.add_experimental_option(\"prefs\", preferences)\n",
    "    options.add_argument(\"--disable-blink-features=AutomationControlled\")\n",
    "    options.add_argument(\"--disable-blink-features\")\n",
    "    options.add_argument(\"--no-sandbox\")\n",
    "    # randomize user agent\n",
    "    options.add_argument(f\"user-agent={choice(USER_AGENTS)}\")\n",
    "    \n",
    "    # enable headless mode\n",
    "    # options.add_argument(\"--headless\")\n",
    "    \n",
    "    return options"
   ]
  },
  {
   "cell_type": "code",
   "execution_count": 6,
   "metadata": {},
   "outputs": [],
   "source": [
    "COURSE_CONTAINER = \"bg-white border-all border-gray-light padding-xsmall radius-small margin-bottom-small medium-up-padding-horz-large medium-up-padding-vert-medium course-list-course\"\n",
    "def load_courses(topic:str):\n",
    "    from selenium.webdriver import Chrome\n",
    "    from selenium.webdriver.chrome.service import Service\n",
    "    from webdriver_manager.chrome import ChromeDriverManager\n",
    "    \n",
    "    driver = Chrome(service=Service(ChromeDriverManager().install()), options=custom_secure_options())\n",
    "    driver.get(_format_class_central_url(topic))\n",
    "    # get the page source\n",
    "    page_source = driver.page_source\n",
    "    # close the driver\n",
    "    driver.close()\n",
    "    # parse the page source\n",
    "    return _parse_class_central_url(page_source)"
   ]
  },
  {
   "cell_type": "code",
   "execution_count": 7,
   "metadata": {},
   "outputs": [],
   "source": [
    "output = load_courses(\"python\")"
   ]
  },
  {
   "cell_type": "code",
   "execution_count": 8,
   "metadata": {},
   "outputs": [
    {
     "name": "stdout",
     "output_type": "stream",
     "text": [
      "{'title': 'An Introduction to Interactive Programming in Python (Part 1)', 'description': 'In this course, get introduced the basic elements of programming (such as expressions, conditionals, and functions) and then use these elements to create simple interactive applications such as a digital stopwatch.', 'href': 'https://www.classcentral.com/course/interactivepython1-408'}\n",
      "\n",
      "{'title': 'An Introduction to Interactive Programming in Python (Part 2)', 'description': \"Rice University's 4-week course introduces Python programming basics, focusing on building interactive applications and games like Blackjack and Asteroids.\", 'href': 'https://www.classcentral.com/course/interactivepython2-3196'}\n",
      "\n",
      "{'title': 'Using Databases with Python', 'description': 'Learn SQL, database design, web crawling, and data visualization with D3.js in a 5-week course from the University of Michigan. Python 3 knowledge required.', 'href': 'https://www.classcentral.com/course/python-databases-4272'}\n",
      "\n",
      "{'title': 'Python and Statistics for Financial Analysis', 'description': 'Due to python’s simplicity and high readability, it is gaining its importance in the financial industry. The course combines both python coding and statistical concepts and applies into analyzing financial data, such as stock data.', 'href': 'https://www.classcentral.com/course/python-statistics-financial-analysis-12648'}\n",
      "\n",
      "{'title': 'Python Data Structures', 'description': \"Explore Python's core data structures with this 7-week course from the University of Michigan, designed to enhance your data analysis skills.\", 'href': 'https://www.classcentral.com/course/python-data-4174'}\n",
      "\n",
      "{'title': 'Programming for Everybody (Getting Started with Python)', 'description': 'This course aims to teach everyone the basics of programming computers using Python. We cover the basics of how one constructs a program from a series of simple instructions in Python.', 'href': 'https://www.classcentral.com/course/python-4319'}\n",
      "\n",
      "{'title': 'Computing in Python IV: Objects & Algorithms', 'description': 'Learn about recursion, search and sort algorithms, and object-oriented programming in Python.', 'href': 'https://www.classcentral.com/course/python-the-georgia-institute-of-technology-comput-11472'}\n",
      "\n",
      "{'title': 'Computing in Python II: Control Structures', 'description': 'Learn about control structures, one of the most powerful parts of programming. This course covers conditionals, loops, functions, and error handling, specifically in Python but with broader applicability to other languages as well.', 'href': 'https://www.classcentral.com/course/python-the-georgia-institute-of-technology-comput-11470'}\n",
      "\n",
      "{'title': 'Computing in Python I: Fundamentals and Procedural Programming', 'description': 'Learn the fundamentals of computing in Python, including variables, operators, and writing and debugging your own programs.', 'href': 'https://www.classcentral.com/course/python-the-georgia-institute-of-technology-comput-11469'}\n",
      "\n",
      "{'title': 'Computing in Python III: Data Structures', 'description': 'Learn more complex ways of handling data, including files, lists, and dictionaries for building complex programs.', 'href': 'https://www.classcentral.com/course/python-the-georgia-institute-of-technology-comput-11471'}\n",
      "\n",
      "{'title': 'Using Python to Access Web Data', 'description': 'Learn to scrape, parse, and read web data using Python in this 6-week course by the University of Michigan. Familiarity with Python basics required.', 'href': 'https://www.classcentral.com/course/python-network-data-4343'}\n",
      "\n",
      "{'title': \"CS50's Web Programming with Python and JavaScript\", 'description': 'This course picks up where CS50 leaves off, diving more deeply into the design and implementation of web apps with Python, JavaScript, and SQL using frameworks like Django, React, and Bootstrap.', 'href': 'https://www.classcentral.com/course/web-development-harvard-university-cs50-s-web-pro-11506'}\n",
      "\n",
      "{'title': 'Python for Data Science', 'description': 'The course aims at equipping participants to be able to use python programming for solving data science problems.', 'href': 'https://www.classcentral.com/course/swayam-python-for-data-science-14266'}\n",
      "\n",
      "{'title': \"CS50's Introduction to Artificial Intelligence with Python\", 'description': 'Learn to use machine learning in Python in this introductory course on artificial intelligence.', 'href': 'https://www.classcentral.com/course/artificial-intelligence-harvard-university-cs50-s-18122'}\n",
      "\n",
      "{'title': 'Python for Everybody - Exploring Information', 'description': 'Learn Python from scratch with this comprehensive course. Topics include installation, variables, loops, strings, files, lists, dictionaries, tuples, regular expressions, network programming, web services, OOP, databases, and data visualization.', 'href': 'https://www.classcentral.com/course/independent-python-for-everybody-exploring-information-7363'}\n",
      "\n"
     ]
    }
   ],
   "source": [
    "for d in output:\n",
    "    print(d)\n",
    "    print()"
   ]
  },
  {
   "cell_type": "code",
   "execution_count": null,
   "metadata": {},
   "outputs": [],
   "source": []
  }
 ],
 "metadata": {
  "kernelspec": {
   "display_name": "Python 3",
   "language": "python",
   "name": "python3"
  },
  "language_info": {
   "codemirror_mode": {
    "name": "ipython",
    "version": 3
   },
   "file_extension": ".py",
   "mimetype": "text/x-python",
   "name": "python",
   "nbconvert_exporter": "python",
   "pygments_lexer": "ipython3",
   "version": "3.11.6"
  }
 },
 "nbformat": 4,
 "nbformat_minor": 2
}
