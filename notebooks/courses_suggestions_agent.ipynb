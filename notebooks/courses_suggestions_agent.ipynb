{
 "cells": [
  {
   "cell_type": "code",
   "execution_count": 15,
   "metadata": {},
   "outputs": [],
   "source": []
  },
  {
   "cell_type": "code",
   "execution_count": 16,
   "metadata": {},
   "outputs": [],
   "source": [
    "def _format_class_central_url(topic:str):\n",
    "    # if topic contains spaces, replace them with +\n",
    "    topic = topic.strip()\n",
    "    topic = topic.replace(' ', '+')\n",
    "    return f\"https://www.classcentral.com/search?q={topic}&free=true\"        "
   ]
  },
  {
   "cell_type": "code",
   "execution_count": 28,
   "metadata": {},
   "outputs": [],
   "source": [
    "def _parse_class_central_url(web_page:str):\n",
    "    from bs4 import BeautifulSoup\n",
    "    soup = BeautifulSoup(web_page, 'html.parser')\n",
    "    \n",
    "    # find all course containers\n",
    "    course_containers = soup.find_all(\"li\", class_=COURSE_CONTAINER)\n",
    "    \n",
    "     # results\n",
    "    results = []\n",
    "    for item in course_containers:\n",
    "        try:\n",
    "            title = item.find(\"h2\").text.strip()\n",
    "            description = item.find(\"p\").text.strip()\n",
    "            href = item.find(\"p\").find(\"a\")[\"href\"]\n",
    "            \n",
    "            results.append({\n",
    "                \"title\": title,\n",
    "                \"description\": description,\n",
    "                \"href\": f\"https://www.classcentral.com{href}\"\n",
    "            })\n",
    "        except:\n",
    "            continue\n",
    "        \n",
    "    return results"
   ]
  },
  {
   "cell_type": "code",
   "execution_count": 33,
   "metadata": {},
   "outputs": [],
   "source": [
    "USER_AGENTS = [\n",
    "     \"Mozilla/5.0 (Windows NT 10.0; Win64; x64) AppleWebKit/537.36 (KHTML, like Gecko) Chrome/58.0.3029.110 Safari/537.36\",\n",
    "    \"Mozilla/5.0 (Windows NT 10.0; Win64; x64) AppleWebKit/537.36 (KHTML, like Gecko) Firefox/60.0\",\n",
    "    \"Mozilla/5.0 (Windows NT 10.0; Win64; x64) AppleWebKit/537.36 (KHTML, like Gecko) Edge/16.16299\",\n",
    "    \"Mozilla/5.0 (Windows NT 10.0; Win64; x64; rv:70.0) Gecko/20100101 Firefox/70.0\",\n",
    "    \"Mozilla/5.0 (Macintosh; Intel Mac OS X 10_14_6) AppleWebKit/605.1.15 (KHTML, like Gecko) Version/13.0.4 Safari/605.1.15\",\n",
    "    \"Mozilla/5.0 (Macintosh; Intel Mac OS X 10_15_7) AppleWebKit/537.36 (KHTML, like Gecko) Chrome/87.0.4280.88 Safari/537.36\",\n",
    "    \"Mozilla/5.0 (Windows NT 10.0; Win64; x64) AppleWebKit/537.36 (KHTML, like Gecko) Chrome/96.0.4664.45 Safari/537.36 Edg/96.0.1054.34\",\n",
    "    \"Mozilla/5.0 (Linux; Android 10; Pixel 3) AppleWebKit/537.36 (KHTML, like Gecko) Chrome/85.0.4183.127 Mobile Safari/537.36\",\n",
    "    \"Mozilla/5.0 (iPhone; CPU iPhone OS 14_4 like Mac OS X) AppleWebKit/605.1.15 (KHTML, like Gecko) Version/14.0.3 Mobile/15E148 Safari/604.1\",\n",
    "    \"Mozilla/5.0 (Linux; Android 10; Pixel 3 XL) AppleWebKit/537.36 (KHTML, like Gecko) Chrome/86.0.4240.198 Mobile Safari/537.36\",\n",
    "    \"Mozilla/5.0 (Macintosh; Intel Mac OS X 10_15_7) AppleWebKit/605.1.15 (KHTML, like Gecko) Version/15.1 Safari/605.1.15\",\n",
    "    \"Mozilla/5.0 (X11; Linux x86_64) AppleWebKit/537.36 (KHTML, like Gecko) Chrome/85.0.4183.83 Safari/537.36\",\n",
    "    \"Mozilla/5.0 (Windows NT 10.0; Win64; x64) AppleWebKit/537.36 (KHTML, like Gecko) Chrome/71.0.3578.98 Safari/537.36 Edge/18.19582\",\n",
    "    \"Mozilla/5.0 (Windows NT 6.1; WOW64; Trident/7.0; AS; rv:11.0) like Gecko\",\n",
    "    \"Mozilla/5.0 (Windows NT 10.0; Win64; x64) AppleWebKit/537.36 (KHTML, like Gecko) Chrome/101.0.0.0 Safari/537.36\",\n",
    "]\n",
    "\n",
    "\n",
    "def custom_secure_options():\n",
    "    from selenium.webdriver.chrome.options import Options\n",
    "    from random import choice\n",
    "    options = Options()\n",
    "\n",
    "    options.ignore_zoom_level = True\n",
    "    options.add_experimental_option(\"excludeSwitches\", [\"enable-logging\"])\n",
    "\n",
    "    # Adding argument to disable the AutomationControlled flag\n",
    "    options.add_argument(\"--disable-blink-features=AutomationControlled\")\n",
    "\n",
    "    # Exclude the collection of enable-automation switches\n",
    "    options.add_experimental_option(\"excludeSwitches\", [\"enable-automation\"])\n",
    "\n",
    "    # Turn-off userAutomationExtension\n",
    "    options.add_experimental_option(\"useAutomationExtension\", False)\n",
    "\n",
    "    preferences = {\n",
    "        \"profile.default_content_settings.geolocation\": 2,\n",
    "        \"profile.managed_default_content_settings.images\": 2,\n",
    "    }\n",
    "\n",
    "    options.add_experimental_option(\"prefs\", preferences)\n",
    "    options.add_argument(\"--disable-blink-features=AutomationControlled\")\n",
    "    options.add_argument(\"--disable-blink-features\")\n",
    "    options.add_argument(\"--no-sandbox\")\n",
    "    # randomize user agent\n",
    "    options.add_argument(f\"user-agent={choice(USER_AGENTS)}\")\n",
    "    \n",
    "    # enable headless mode\n",
    "    # options.add_argument(\"--headless\")\n",
    "    \n",
    "    return options"
   ]
  },
  {
   "cell_type": "code",
   "execution_count": 34,
   "metadata": {},
   "outputs": [],
   "source": [
    "def load_courses(topic:str):\n",
    "    from selenium.webdriver import Chrome\n",
    "    from selenium.webdriver.chrome.service import Service\n",
    "    from webdriver_manager.chrome import ChromeDriverManager\n",
    "    \n",
    "    driver = Chrome(service=Service(ChromeDriverManager().install()), options=custom_secure_options())\n",
    "    driver.get(_format_class_central_url(topic))\n",
    "    # get the page source\n",
    "    page_source = driver.page_source\n",
    "    # close the driver\n",
    "    driver.close()\n",
    "    # parse the page source\n",
    "    return _parse_class_central_url(page_source)"
   ]
  },
  {
   "cell_type": "code",
   "execution_count": 35,
   "metadata": {},
   "outputs": [],
   "source": [
    "output = load_courses(\"data analysis\")"
   ]
  },
  {
   "cell_type": "code",
   "execution_count": 36,
   "metadata": {},
   "outputs": [
    {
     "name": "stdout",
     "output_type": "stream",
     "text": [
      "{'title': 'Data Analysis with R', 'description': 'Data is everywhere and so much of it is unexplored. Learn how to investigate and summarize data sets using R and eventually create your own analysis.', 'href': 'https://www.classcentral.com/course/udacity-data-analysis-with-r-1478'}\n",
      "\n",
      "{'title': 'Mastering Data Analysis in Excel', 'description': \"Duke University's 6-week course focuses on mastering data analysis using Excel. Learn to design predictive models, understand uncertainty measures, and apply business data analysis methods.\", 'href': 'https://www.classcentral.com/course/analytics-excel-4310'}\n",
      "\n",
      "{'title': 'Excel Fundamentals for Data Analysis', 'description': 'As data becomes the modern currency, so the ability to analyse the data quickly and accurately has become of paramount importance.', 'href': 'https://www.classcentral.com/course/excel-data-analysis-fundamentals-20156'}\n",
      "\n",
      "{'title': 'Introduction to Transforming with Data Analytics and the Digital Organization', 'description': 'Learn to navigate digital transformation in organizations with this 4-week course from the University System of Maryland. Gain skills in data analysis, machine learning, and strategic decision-making.', 'href': 'https://www.classcentral.com/course/data-analysis-the-university-of-maryland-college--21480'}\n",
      "\n",
      "{'title': 'Intro to Data Analysis', 'description': \"Explore a variety of datasets, posing and answering your own questions about each. You'll be using the Python libraries NumPy, Pandas, and Matplotlib.\", 'href': 'https://www.classcentral.com/course/udacity-intro-to-data-analysis-4937'}\n",
      "\n",
      "{'title': 'SQL for Data Analysis', 'description': 'Learn to use Structured Query Language (SQL) to extract and analyze data stored in databases', 'href': 'https://www.classcentral.com/course/udacity-sql-for-data-analysis-10509'}\n",
      "\n",
      "{'title': 'Bayesian Statistics: From Concept to Data Analysis', 'description': 'Explore Bayesian statistics with UC Santa Cruz in a 4-week course. Learn the philosophy, implementation, and benefits of this approach, and gain skills in data analysis using Excel or R.', 'href': 'https://www.classcentral.com/course/bayesian-statistics-6633'}\n",
      "\n",
      "{'title': 'Process Mining: Data science in Action', 'description': 'Learn how to analyze and improve processes using data science techniques in this 6-week course by Eindhoven University of Technology. Gain practical skills and apply process mining to various domains.', 'href': 'https://www.classcentral.com/course/procmin-2445'}\n",
      "\n",
      "{'title': 'Getting and Cleaning Data', 'description': 'Learn how to obtain and clean data from various sources, including the web, APIs, and databases. Discover the importance of tidy data and gain the skills needed for collecting, cleaning, and sharing data. Offered by Johns Hopkins University.', 'href': 'https://www.classcentral.com/course/getdata-1714'}\n",
      "\n",
      "{'title': 'Foundations of Data Analysis - Part 1: Statistics Using R', 'description': 'Use R to learn fundamental statistical topics such as descriptive statistics and modeling.', 'href': 'https://www.classcentral.com/course/data-analysis-the-university-of-texas-at-austin-f-4805'}\n",
      "\n",
      "{'title': 'Computing in Python III: Data Structures', 'description': 'Learn more complex ways of handling data, including files, lists, and dictionaries for building complex programs.', 'href': 'https://www.classcentral.com/course/python-the-georgia-institute-of-technology-comput-11471'}\n",
      "\n",
      "{'title': 'Making Sense of Data in the Media', 'description': 'Become a critical consumer of social statistics. Learn what numbers reveal, when and why they mislead, and how to spot fake news.', 'href': 'https://www.classcentral.com/course/media-data-4925'}\n",
      "\n",
      "{'title': 'Data Science and Agile Systems for Product Management', 'description': 'Deliver faster, higher quality, and fault-tolerant products regardless of industry using the latest in Agile, DevOps, and Data Science.', 'href': 'https://www.classcentral.com/course/product-management-the-university-of-maryland-col-19101'}\n",
      "\n",
      "{'title': 'Python for Data Science', 'description': 'The course aims at equipping participants to be able to use python programming for solving data science problems.', 'href': 'https://www.classcentral.com/course/swayam-python-for-data-science-14266'}\n",
      "\n",
      "{'title': 'Introduction to Systematic Review and Meta-Analysis', 'description': 'Learn systematic review and meta-analysis methods in a 6-week course by Johns Hopkins University. Gain skills in formulating research questions, data extraction, and interpreting results.', 'href': 'https://www.classcentral.com/course/systematicreview-3480'}\n",
      "\n"
     ]
    }
   ],
   "source": [
    "for d in output:\n",
    "    print(d)\n",
    "    print()"
   ]
  },
  {
   "cell_type": "code",
   "execution_count": null,
   "metadata": {},
   "outputs": [],
   "source": []
  }
 ],
 "metadata": {
  "kernelspec": {
   "display_name": "Python 3",
   "language": "python",
   "name": "python3"
  },
  "language_info": {
   "codemirror_mode": {
    "name": "ipython",
    "version": 3
   },
   "file_extension": ".py",
   "mimetype": "text/x-python",
   "name": "python",
   "nbconvert_exporter": "python",
   "pygments_lexer": "ipython3",
   "version": "3.11.4"
  }
 },
 "nbformat": 4,
 "nbformat_minor": 2
}
